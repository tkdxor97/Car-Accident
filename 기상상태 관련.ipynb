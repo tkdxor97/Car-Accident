{
 "cells": [
  {
   "cell_type": "code",
   "execution_count": 7,
   "metadata": {},
   "outputs": [],
   "source": [
    "import pandas as pd\n",
    "import numpy as np\n",
    "import matplotlib\n",
    "import matplotlib.pyplot as plt\n",
    "import matplotlib.font_manager as fm\n",
    "from statsmodels.formula.api import ols\n",
    "from statsmodels.stats.anova import anova_lm\n",
    "\n",
    "fm.get_fontconfig_fonts()\n",
    "font_location = 'C:/Windows/Fonts/malgun.ttf'\n",
    "font_name = fm.FontProperties(fname=font_location).get_name()\n",
    "matplotlib.rc('font', family=font_name)"
   ]
  },
  {
   "cell_type": "code",
   "execution_count": 8,
   "metadata": {},
   "outputs": [],
   "source": [
    "\n",
    "df = pd.read_excel(\"C:/Users/ghdtk/BigData/Project/Data/교통사고 통계/일자별 교통사고.xls\", header=1)\n",
    "\n",
    "month_list = []\n",
    "month_list.append(df.iloc[0][3:])\n",
    "month_list.append(df.iloc[3][3:])\n",
    "month_list.append(df.iloc[6][3:])\n",
    "month_list.append(df.iloc[9][3:])\n",
    "month_list.append(df.iloc[12][3:])\n",
    "month_list.append(df.iloc[15][3:])\n",
    "month_list.append(df.iloc[18][3:])\n",
    "month_list.append(df.iloc[21][3:])\n",
    "month_list.append(df.iloc[24][3:])\n",
    "month_list.append(df.iloc[27][3:])\n",
    "month_list.append(df.iloc[30][3:])\n",
    "month_list.append(df.iloc[33][3:])\n"
   ]
  },
  {
   "cell_type": "code",
   "execution_count": 9,
   "metadata": {},
   "outputs": [],
   "source": [
    "day_list = []\n",
    "for month in month_list:\n",
    "    for day in month:\n",
    "        if(day != '-'):\n",
    "            day_list.append(day)"
   ]
  },
  {
   "cell_type": "code",
   "execution_count": 10,
   "metadata": {},
   "outputs": [],
   "source": [
    "df = pd.read_csv(\"C:/Users/ghdtk/BigData/Project/Data/날씨 데이터(서울)/서울 날씨통계.csv\", encoding = 'ANSI')"
   ]
  },
  {
   "cell_type": "code",
   "execution_count": 11,
   "metadata": {},
   "outputs": [],
   "source": [
    "df['교통사고_발생건수'] = day_list"
   ]
  },
  {
   "cell_type": "code",
   "execution_count": 12,
   "metadata": {},
   "outputs": [
    {
     "data": {
      "text/html": [
       "<div>\n",
       "<style scoped>\n",
       "    .dataframe tbody tr th:only-of-type {\n",
       "        vertical-align: middle;\n",
       "    }\n",
       "\n",
       "    .dataframe tbody tr th {\n",
       "        vertical-align: top;\n",
       "    }\n",
       "\n",
       "    .dataframe thead th {\n",
       "        text-align: right;\n",
       "    }\n",
       "</style>\n",
       "<table border=\"1\" class=\"dataframe\">\n",
       "  <thead>\n",
       "    <tr style=\"text-align: right;\">\n",
       "      <th></th>\n",
       "      <th>지점</th>\n",
       "      <th>일시</th>\n",
       "      <th>평균기온(°C)</th>\n",
       "      <th>최저기온(°C)</th>\n",
       "      <th>최저기온 시각(hhmi)</th>\n",
       "      <th>최고기온(°C)</th>\n",
       "      <th>최고기온 시각(hhmi)</th>\n",
       "      <th>강수 계속시간(hr)</th>\n",
       "      <th>10분 최다 강수량(mm)</th>\n",
       "      <th>10분 최다강수량 시각(hhmi)</th>\n",
       "      <th>...</th>\n",
       "      <th>1.0m 지중온도(°C)</th>\n",
       "      <th>1.5m 지중온도(°C)</th>\n",
       "      <th>3.0m 지중온도(°C)</th>\n",
       "      <th>5.0m 지중온도(°C)</th>\n",
       "      <th>합계 대형증발량(mm)</th>\n",
       "      <th>합계 소형증발량(mm)</th>\n",
       "      <th>9-9강수(mm)</th>\n",
       "      <th>안개 계속시간(hr)</th>\n",
       "      <th>교통사고_발생건수</th>\n",
       "      <th>날씨</th>\n",
       "    </tr>\n",
       "  </thead>\n",
       "  <tbody>\n",
       "    <tr>\n",
       "      <th>0</th>\n",
       "      <td>108</td>\n",
       "      <td>2019-01-01</td>\n",
       "      <td>-5.0</td>\n",
       "      <td>-8.2</td>\n",
       "      <td>631</td>\n",
       "      <td>-0.6</td>\n",
       "      <td>1525</td>\n",
       "      <td>NaN</td>\n",
       "      <td>NaN</td>\n",
       "      <td>NaN</td>\n",
       "      <td>...</td>\n",
       "      <td>6.1</td>\n",
       "      <td>9.1</td>\n",
       "      <td>14.9</td>\n",
       "      <td>17.1</td>\n",
       "      <td>1.0</td>\n",
       "      <td>1.4</td>\n",
       "      <td>NaN</td>\n",
       "      <td>NaN</td>\n",
       "      <td>352.0</td>\n",
       "      <td>맑음</td>\n",
       "    </tr>\n",
       "    <tr>\n",
       "      <th>1</th>\n",
       "      <td>108</td>\n",
       "      <td>2019-01-02</td>\n",
       "      <td>-4.9</td>\n",
       "      <td>-8.8</td>\n",
       "      <td>802</td>\n",
       "      <td>0.2</td>\n",
       "      <td>1458</td>\n",
       "      <td>NaN</td>\n",
       "      <td>NaN</td>\n",
       "      <td>NaN</td>\n",
       "      <td>...</td>\n",
       "      <td>5.9</td>\n",
       "      <td>8.9</td>\n",
       "      <td>14.7</td>\n",
       "      <td>17.1</td>\n",
       "      <td>1.3</td>\n",
       "      <td>1.9</td>\n",
       "      <td>NaN</td>\n",
       "      <td>NaN</td>\n",
       "      <td>514.0</td>\n",
       "      <td>맑음</td>\n",
       "    </tr>\n",
       "    <tr>\n",
       "      <th>2</th>\n",
       "      <td>108</td>\n",
       "      <td>2019-01-03</td>\n",
       "      <td>-3.5</td>\n",
       "      <td>-8.4</td>\n",
       "      <td>726</td>\n",
       "      <td>3.2</td>\n",
       "      <td>1436</td>\n",
       "      <td>NaN</td>\n",
       "      <td>NaN</td>\n",
       "      <td>NaN</td>\n",
       "      <td>...</td>\n",
       "      <td>5.8</td>\n",
       "      <td>8.8</td>\n",
       "      <td>14.7</td>\n",
       "      <td>17.0</td>\n",
       "      <td>1.4</td>\n",
       "      <td>2.0</td>\n",
       "      <td>NaN</td>\n",
       "      <td>NaN</td>\n",
       "      <td>497.0</td>\n",
       "      <td>맑음</td>\n",
       "    </tr>\n",
       "    <tr>\n",
       "      <th>3</th>\n",
       "      <td>108</td>\n",
       "      <td>2019-01-04</td>\n",
       "      <td>-1.1</td>\n",
       "      <td>-6.2</td>\n",
       "      <td>757</td>\n",
       "      <td>4.1</td>\n",
       "      <td>1504</td>\n",
       "      <td>NaN</td>\n",
       "      <td>NaN</td>\n",
       "      <td>NaN</td>\n",
       "      <td>...</td>\n",
       "      <td>5.7</td>\n",
       "      <td>8.7</td>\n",
       "      <td>14.5</td>\n",
       "      <td>17.0</td>\n",
       "      <td>0.9</td>\n",
       "      <td>1.3</td>\n",
       "      <td>NaN</td>\n",
       "      <td>NaN</td>\n",
       "      <td>541.0</td>\n",
       "      <td>맑음</td>\n",
       "    </tr>\n",
       "    <tr>\n",
       "      <th>4</th>\n",
       "      <td>108</td>\n",
       "      <td>2019-01-05</td>\n",
       "      <td>-2.8</td>\n",
       "      <td>-5.5</td>\n",
       "      <td>2358</td>\n",
       "      <td>1.1</td>\n",
       "      <td>1521</td>\n",
       "      <td>NaN</td>\n",
       "      <td>NaN</td>\n",
       "      <td>NaN</td>\n",
       "      <td>...</td>\n",
       "      <td>5.5</td>\n",
       "      <td>8.6</td>\n",
       "      <td>14.5</td>\n",
       "      <td>16.9</td>\n",
       "      <td>1.4</td>\n",
       "      <td>2.0</td>\n",
       "      <td>NaN</td>\n",
       "      <td>NaN</td>\n",
       "      <td>507.0</td>\n",
       "      <td>맑음</td>\n",
       "    </tr>\n",
       "    <tr>\n",
       "      <th>...</th>\n",
       "      <td>...</td>\n",
       "      <td>...</td>\n",
       "      <td>...</td>\n",
       "      <td>...</td>\n",
       "      <td>...</td>\n",
       "      <td>...</td>\n",
       "      <td>...</td>\n",
       "      <td>...</td>\n",
       "      <td>...</td>\n",
       "      <td>...</td>\n",
       "      <td>...</td>\n",
       "      <td>...</td>\n",
       "      <td>...</td>\n",
       "      <td>...</td>\n",
       "      <td>...</td>\n",
       "      <td>...</td>\n",
       "      <td>...</td>\n",
       "      <td>...</td>\n",
       "      <td>...</td>\n",
       "      <td>...</td>\n",
       "      <td>...</td>\n",
       "    </tr>\n",
       "    <tr>\n",
       "      <th>360</th>\n",
       "      <td>108</td>\n",
       "      <td>2019-12-27</td>\n",
       "      <td>-1.7</td>\n",
       "      <td>-4.6</td>\n",
       "      <td>724</td>\n",
       "      <td>2.6</td>\n",
       "      <td>1442</td>\n",
       "      <td>NaN</td>\n",
       "      <td>NaN</td>\n",
       "      <td>NaN</td>\n",
       "      <td>...</td>\n",
       "      <td>7.8</td>\n",
       "      <td>10.5</td>\n",
       "      <td>15.8</td>\n",
       "      <td>17.2</td>\n",
       "      <td>1.5</td>\n",
       "      <td>2.2</td>\n",
       "      <td>NaN</td>\n",
       "      <td>NaN</td>\n",
       "      <td>654.0</td>\n",
       "      <td>맑음</td>\n",
       "    </tr>\n",
       "    <tr>\n",
       "      <th>361</th>\n",
       "      <td>108</td>\n",
       "      <td>2019-12-28</td>\n",
       "      <td>1.1</td>\n",
       "      <td>-3.6</td>\n",
       "      <td>336</td>\n",
       "      <td>6.1</td>\n",
       "      <td>1347</td>\n",
       "      <td>NaN</td>\n",
       "      <td>NaN</td>\n",
       "      <td>NaN</td>\n",
       "      <td>...</td>\n",
       "      <td>7.6</td>\n",
       "      <td>10.3</td>\n",
       "      <td>15.6</td>\n",
       "      <td>17.1</td>\n",
       "      <td>1.4</td>\n",
       "      <td>2.0</td>\n",
       "      <td>NaN</td>\n",
       "      <td>NaN</td>\n",
       "      <td>550.0</td>\n",
       "      <td>맑음</td>\n",
       "    </tr>\n",
       "    <tr>\n",
       "      <th>362</th>\n",
       "      <td>108</td>\n",
       "      <td>2019-12-29</td>\n",
       "      <td>3.8</td>\n",
       "      <td>1.1</td>\n",
       "      <td>43</td>\n",
       "      <td>6.2</td>\n",
       "      <td>1525</td>\n",
       "      <td>6.75</td>\n",
       "      <td>NaN</td>\n",
       "      <td>NaN</td>\n",
       "      <td>...</td>\n",
       "      <td>7.5</td>\n",
       "      <td>10.2</td>\n",
       "      <td>15.6</td>\n",
       "      <td>17.2</td>\n",
       "      <td>1.1</td>\n",
       "      <td>1.6</td>\n",
       "      <td>1.5</td>\n",
       "      <td>NaN</td>\n",
       "      <td>460.0</td>\n",
       "      <td>비</td>\n",
       "    </tr>\n",
       "    <tr>\n",
       "      <th>363</th>\n",
       "      <td>108</td>\n",
       "      <td>2019-12-30</td>\n",
       "      <td>2.7</td>\n",
       "      <td>-5.7</td>\n",
       "      <td>2359</td>\n",
       "      <td>6.8</td>\n",
       "      <td>1131</td>\n",
       "      <td>5.08</td>\n",
       "      <td>NaN</td>\n",
       "      <td>NaN</td>\n",
       "      <td>...</td>\n",
       "      <td>7.3</td>\n",
       "      <td>10.0</td>\n",
       "      <td>15.5</td>\n",
       "      <td>17.1</td>\n",
       "      <td>0.9</td>\n",
       "      <td>1.3</td>\n",
       "      <td>0.3</td>\n",
       "      <td>NaN</td>\n",
       "      <td>619.0</td>\n",
       "      <td>비</td>\n",
       "    </tr>\n",
       "    <tr>\n",
       "      <th>364</th>\n",
       "      <td>108</td>\n",
       "      <td>2019-12-31</td>\n",
       "      <td>-7.9</td>\n",
       "      <td>-10.9</td>\n",
       "      <td>734</td>\n",
       "      <td>-4.5</td>\n",
       "      <td>1526</td>\n",
       "      <td>1.58</td>\n",
       "      <td>NaN</td>\n",
       "      <td>NaN</td>\n",
       "      <td>...</td>\n",
       "      <td>7.2</td>\n",
       "      <td>9.9</td>\n",
       "      <td>15.4</td>\n",
       "      <td>17.1</td>\n",
       "      <td>1.0</td>\n",
       "      <td>1.4</td>\n",
       "      <td>0.0</td>\n",
       "      <td>NaN</td>\n",
       "      <td>627.0</td>\n",
       "      <td>비</td>\n",
       "    </tr>\n",
       "  </tbody>\n",
       "</table>\n",
       "<p>365 rows × 61 columns</p>\n",
       "</div>"
      ],
      "text/plain": [
       "      지점          일시  평균기온(°C)  최저기온(°C)  최저기온 시각(hhmi)  최고기온(°C)  \\\n",
       "0    108  2019-01-01      -5.0      -8.2            631      -0.6   \n",
       "1    108  2019-01-02      -4.9      -8.8            802       0.2   \n",
       "2    108  2019-01-03      -3.5      -8.4            726       3.2   \n",
       "3    108  2019-01-04      -1.1      -6.2            757       4.1   \n",
       "4    108  2019-01-05      -2.8      -5.5           2358       1.1   \n",
       "..   ...         ...       ...       ...            ...       ...   \n",
       "360  108  2019-12-27      -1.7      -4.6            724       2.6   \n",
       "361  108  2019-12-28       1.1      -3.6            336       6.1   \n",
       "362  108  2019-12-29       3.8       1.1             43       6.2   \n",
       "363  108  2019-12-30       2.7      -5.7           2359       6.8   \n",
       "364  108  2019-12-31      -7.9     -10.9            734      -4.5   \n",
       "\n",
       "     최고기온 시각(hhmi)  강수 계속시간(hr)  10분 최다 강수량(mm)  10분 최다강수량 시각(hhmi)  ...  \\\n",
       "0             1525          NaN             NaN                 NaN  ...   \n",
       "1             1458          NaN             NaN                 NaN  ...   \n",
       "2             1436          NaN             NaN                 NaN  ...   \n",
       "3             1504          NaN             NaN                 NaN  ...   \n",
       "4             1521          NaN             NaN                 NaN  ...   \n",
       "..             ...          ...             ...                 ...  ...   \n",
       "360           1442          NaN             NaN                 NaN  ...   \n",
       "361           1347          NaN             NaN                 NaN  ...   \n",
       "362           1525         6.75             NaN                 NaN  ...   \n",
       "363           1131         5.08             NaN                 NaN  ...   \n",
       "364           1526         1.58             NaN                 NaN  ...   \n",
       "\n",
       "     1.0m 지중온도(°C)  1.5m 지중온도(°C)  3.0m 지중온도(°C)  5.0m 지중온도(°C)  합계 대형증발량(mm)  \\\n",
       "0              6.1            9.1           14.9           17.1           1.0   \n",
       "1              5.9            8.9           14.7           17.1           1.3   \n",
       "2              5.8            8.8           14.7           17.0           1.4   \n",
       "3              5.7            8.7           14.5           17.0           0.9   \n",
       "4              5.5            8.6           14.5           16.9           1.4   \n",
       "..             ...            ...            ...            ...           ...   \n",
       "360            7.8           10.5           15.8           17.2           1.5   \n",
       "361            7.6           10.3           15.6           17.1           1.4   \n",
       "362            7.5           10.2           15.6           17.2           1.1   \n",
       "363            7.3           10.0           15.5           17.1           0.9   \n",
       "364            7.2            9.9           15.4           17.1           1.0   \n",
       "\n",
       "     합계 소형증발량(mm)  9-9강수(mm)  안개 계속시간(hr)  교통사고_발생건수  날씨  \n",
       "0             1.4        NaN          NaN      352.0  맑음  \n",
       "1             1.9        NaN          NaN      514.0  맑음  \n",
       "2             2.0        NaN          NaN      497.0  맑음  \n",
       "3             1.3        NaN          NaN      541.0  맑음  \n",
       "4             2.0        NaN          NaN      507.0  맑음  \n",
       "..            ...        ...          ...        ...  ..  \n",
       "360           2.2        NaN          NaN      654.0  맑음  \n",
       "361           2.0        NaN          NaN      550.0  맑음  \n",
       "362           1.6        1.5          NaN      460.0   비  \n",
       "363           1.3        0.3          NaN      619.0   비  \n",
       "364           1.4        0.0          NaN      627.0   비  \n",
       "\n",
       "[365 rows x 61 columns]"
      ]
     },
     "execution_count": 12,
     "metadata": {},
     "output_type": "execute_result"
    }
   ],
   "source": [
    "weather = []\n",
    "for i in range(len(df)):\n",
    "    if(df.iloc[i]['일 최심적설(cm)'] >= 0):\n",
    "        weather.append(\"눈\")\n",
    "    elif(df.iloc[i]['일강수량(mm)'] >= 0):\n",
    "        weather.append('비')\n",
    "    else:\n",
    "        weather.append(\"맑음\")\n",
    "df['날씨'] = weather\n",
    "df"
   ]
  },
  {
   "cell_type": "code",
   "execution_count": 19,
   "metadata": {},
   "outputs": [
    {
     "name": "stdout",
     "output_type": "stream",
     "text": [
      "             df        sum_sq      mean_sq         F    PR(>F)\n",
      "weather     2.0  1.060994e+04  5304.969997  0.542907  0.581529\n",
      "Residual  362.0  3.537252e+06  9771.415590       NaN       NaN\n"
     ]
    }
   ],
   "source": [
    "model=ols('교통사고_발생건수~weather', df).fit()\n",
    "\n",
    "print (anova_lm(model))"
   ]
  },
  {
   "cell_type": "code",
   "execution_count": 13,
   "metadata": {},
   "outputs": [],
   "source": [
    "sunny_day = df[df['날씨'] == '맑음']\n",
    "rainy_day = df[df['날씨'] == '비']\n",
    "snowy_day = df[df['날씨'] == '눈']"
   ]
  },
  {
   "cell_type": "code",
   "execution_count": 14,
   "metadata": {},
   "outputs": [
    {
     "name": "stdout",
     "output_type": "stream",
     "text": [
      "626.9247787610619 634.3511450381679 601.875\n"
     ]
    }
   ],
   "source": [
    "sunny_day_accident_rate = sunny_day['교통사고_발생건수'].sum() / len(sunny_day)\n",
    "rainy_day_accident_rate = rainy_day['교통사고_발생건수'].sum() / len(rainy_day)\n",
    "snowy_day_accident_rate = snowy_day['교통사고_발생건수'].sum() / len(snowy_day)\n",
    "\n",
    "print(sunny_day_accident_rate, rainy_day_accident_rate, snowy_day_accident_rate)"
   ]
  },
  {
   "cell_type": "code",
   "execution_count": 15,
   "metadata": {},
   "outputs": [
    {
     "data": {
      "text/html": [
       "<div>\n",
       "<style scoped>\n",
       "    .dataframe tbody tr th:only-of-type {\n",
       "        vertical-align: middle;\n",
       "    }\n",
       "\n",
       "    .dataframe tbody tr th {\n",
       "        vertical-align: top;\n",
       "    }\n",
       "\n",
       "    .dataframe thead th {\n",
       "        text-align: right;\n",
       "    }\n",
       "</style>\n",
       "<table border=\"1\" class=\"dataframe\">\n",
       "  <thead>\n",
       "    <tr style=\"text-align: right;\">\n",
       "      <th></th>\n",
       "      <th>일강수량(mm)</th>\n",
       "      <th>교통사고_발생건수</th>\n",
       "    </tr>\n",
       "  </thead>\n",
       "  <tbody>\n",
       "    <tr>\n",
       "      <th>일강수량(mm)</th>\n",
       "      <td>1.000000</td>\n",
       "      <td>0.176784</td>\n",
       "    </tr>\n",
       "    <tr>\n",
       "      <th>교통사고_발생건수</th>\n",
       "      <td>0.176784</td>\n",
       "      <td>1.000000</td>\n",
       "    </tr>\n",
       "  </tbody>\n",
       "</table>\n",
       "</div>"
      ],
      "text/plain": [
       "           일강수량(mm)  교통사고_발생건수\n",
       "일강수량(mm)   1.000000   0.176784\n",
       "교통사고_발생건수  0.176784   1.000000"
      ]
     },
     "execution_count": 15,
     "metadata": {},
     "output_type": "execute_result"
    }
   ],
   "source": [
    "rainy_day[['일강수량(mm)', '교통사고_발생건수']].corr()"
   ]
  },
  {
   "cell_type": "code",
   "execution_count": 16,
   "metadata": {},
   "outputs": [
    {
     "data": {
      "text/html": [
       "<div>\n",
       "<style scoped>\n",
       "    .dataframe tbody tr th:only-of-type {\n",
       "        vertical-align: middle;\n",
       "    }\n",
       "\n",
       "    .dataframe tbody tr th {\n",
       "        vertical-align: top;\n",
       "    }\n",
       "\n",
       "    .dataframe thead th {\n",
       "        text-align: right;\n",
       "    }\n",
       "</style>\n",
       "<table border=\"1\" class=\"dataframe\">\n",
       "  <thead>\n",
       "    <tr style=\"text-align: right;\">\n",
       "      <th></th>\n",
       "      <th>일 최심적설(cm)</th>\n",
       "      <th>교통사고_발생건수</th>\n",
       "    </tr>\n",
       "  </thead>\n",
       "  <tbody>\n",
       "    <tr>\n",
       "      <th>일 최심적설(cm)</th>\n",
       "      <td>1.000000</td>\n",
       "      <td>-0.104598</td>\n",
       "    </tr>\n",
       "    <tr>\n",
       "      <th>교통사고_발생건수</th>\n",
       "      <td>-0.104598</td>\n",
       "      <td>1.000000</td>\n",
       "    </tr>\n",
       "  </tbody>\n",
       "</table>\n",
       "</div>"
      ],
      "text/plain": [
       "            일 최심적설(cm)  교통사고_발생건수\n",
       "일 최심적설(cm)    1.000000  -0.104598\n",
       "교통사고_발생건수    -0.104598   1.000000"
      ]
     },
     "execution_count": 16,
     "metadata": {},
     "output_type": "execute_result"
    }
   ],
   "source": [
    "snowy_day[['일 최심적설(cm)', '교통사고_발생건수']].corr()"
   ]
  },
  {
   "cell_type": "code",
   "execution_count": 17,
   "metadata": {},
   "outputs": [],
   "source": [
    "def LeastSquareMethod(X, Y):\n",
    "    x_bar = sum(X) / len(X)\n",
    "    y_bar = sum(Y) / len(Y)\n",
    "    \n",
    "    a = sum([(y - y_bar) * (x - x_bar) for y, x in list(zip(Y,X))])\n",
    "    a /= sum([(x - x_bar) ** 2 for x in X])\n",
    "    b = y_bar - a * x_bar\n",
    "    print('slope : ', a, 'intercept : ', b)\n",
    "    \n",
    "    line_x = np.arange(min(X), max(X), 0.01)\n",
    "    line_y = a * line_x + b\n",
    "    \n",
    "    plt.plot(line_x, line_y, 'r-')\n",
    "    "
   ]
  },
  {
   "cell_type": "code",
   "execution_count": 18,
   "metadata": {},
   "outputs": [
    {
     "name": "stdout",
     "output_type": "stream",
     "text": [
      "             df        sum_sq      mean_sq         F    PR(>F)\n",
      "weather     2.0  1.060994e+04  5304.969997  0.542907  0.581529\n",
      "Residual  362.0  3.537252e+06  9771.415590       NaN       NaN\n"
     ]
    }
   ],
   "source": [
    "model = ols(\"교통사고_발생건수~weather\", df).fit()\n",
    "print(anova_lm(model))"
   ]
  },
  {
   "cell_type": "code",
   "execution_count": 20,
   "metadata": {},
   "outputs": [
    {
     "name": "stdout",
     "output_type": "stream",
     "text": [
      "slope :  1.332768605380217 intercept :  625.3636046870772\n"
     ]
    },
    {
     "data": {
      "image/png": "[encoded data removed]",
      "text/plain": [
       "<Figure size 432x288 with 1 Axes>"
      ]
     },
     "metadata": {
      "needs_background": "light"
     },
     "output_type": "display_data"
    }
   ],
   "source": [
    "plt.scatter(\"일강수량(mm)\", \"교통사고_발생건수\", data = rainy_day)\n",
    "LeastSquareMethod(rainy_day['일강수량(mm)'], rainy_day['교통사고_발생건수'])"
   ]
  },
  {
   "cell_type": "code",
   "execution_count": 15,
   "metadata": {},
   "outputs": [
    {
     "name": "stderr",
     "output_type": "stream",
     "text": [
      "<ipython-input-15-5b62b0fb7973>:1: SettingWithCopyWarning: \n",
      "A value is trying to be set on a copy of a slice from a DataFrame.\n",
      "Try using .loc[row_indexer,col_indexer] = value instead\n",
      "\n",
      "See the caveats in the documentation: https://pandas.pydata.org/pandas-docs/stable/user_guide/indexing.html#returning-a-view-versus-a-copy\n",
      "  snowy_day['일최심적설'] = snowy_day['일 최심적설(cm)']\n",
      "C:\\ProgramData\\Anaconda3\\lib\\site-packages\\scipy\\stats\\stats.py:1603: UserWarning: kurtosistest only valid for n>=20 ... continuing anyway, n=8\n",
      "  warnings.warn(\"kurtosistest only valid for n>=20 ... continuing \"\n"
     ]
    },
    {
     "data": {
      "text/html": [
       "<table class=\"simpletable\">\n",
       "<caption>OLS Regression Results</caption>\n",
       "<tr>\n",
       "  <th>Dep. Variable:</th>        <td>교통사고_발생건수</td>    <th>  R-squared:         </th> <td>   0.011</td>\n",
       "</tr>\n",
       "<tr>\n",
       "  <th>Model:</th>                   <td>OLS</td>       <th>  Adj. R-squared:    </th> <td>  -0.154</td>\n",
       "</tr>\n",
       "<tr>\n",
       "  <th>Method:</th>             <td>Least Squares</td>  <th>  F-statistic:       </th> <td> 0.06637</td>\n",
       "</tr>\n",
       "<tr>\n",
       "  <th>Date:</th>             <td>Sat, 05 Jun 2021</td> <th>  Prob (F-statistic):</th>  <td> 0.805</td> \n",
       "</tr>\n",
       "<tr>\n",
       "  <th>Time:</th>                 <td>14:18:43</td>     <th>  Log-Likelihood:    </th> <td> -45.145</td>\n",
       "</tr>\n",
       "<tr>\n",
       "  <th>No. Observations:</th>      <td>     8</td>      <th>  AIC:               </th> <td>   94.29</td>\n",
       "</tr>\n",
       "<tr>\n",
       "  <th>Df Residuals:</th>          <td>     6</td>      <th>  BIC:               </th> <td>   94.45</td>\n",
       "</tr>\n",
       "<tr>\n",
       "  <th>Df Model:</th>              <td>     1</td>      <th>                     </th>     <td> </td>   \n",
       "</tr>\n",
       "<tr>\n",
       "  <th>Covariance Type:</th>      <td>nonrobust</td>    <th>                     </th>     <td> </td>   \n",
       "</tr>\n",
       "</table>\n",
       "<table class=\"simpletable\">\n",
       "<tr>\n",
       "      <td></td>         <th>coef</th>     <th>std err</th>      <th>t</th>      <th>P>|t|</th>  <th>[0.025</th>    <th>0.975]</th>  \n",
       "</tr>\n",
       "<tr>\n",
       "  <th>Intercept</th> <td>  607.4154</td> <td>   35.220</td> <td>   17.246</td> <td> 0.000</td> <td>  521.235</td> <td>  693.595</td>\n",
       "</tr>\n",
       "<tr>\n",
       "  <th>일최심적설</th>     <td>   -6.1560</td> <td>   23.895</td> <td>   -0.258</td> <td> 0.805</td> <td>  -64.625</td> <td>   52.313</td>\n",
       "</tr>\n",
       "</table>\n",
       "<table class=\"simpletable\">\n",
       "<tr>\n",
       "  <th>Omnibus:</th>       <td> 1.795</td> <th>  Durbin-Watson:     </th> <td>   2.025</td>\n",
       "</tr>\n",
       "<tr>\n",
       "  <th>Prob(Omnibus):</th> <td> 0.407</td> <th>  Jarque-Bera (JB):  </th> <td>   0.858</td>\n",
       "</tr>\n",
       "<tr>\n",
       "  <th>Skew:</th>          <td> 0.396</td> <th>  Prob(JB):          </th> <td>   0.651</td>\n",
       "</tr>\n",
       "<tr>\n",
       "  <th>Kurtosis:</th>      <td> 1.606</td> <th>  Cond. No.          </th> <td>    2.28</td>\n",
       "</tr>\n",
       "</table><br/><br/>Notes:<br/>[1] Standard Errors assume that the covariance matrix of the errors is correctly specified."
      ],
      "text/plain": [
       "<class 'statsmodels.iolib.summary.Summary'>\n",
       "\"\"\"\n",
       "                            OLS Regression Results                            \n",
       "==============================================================================\n",
       "Dep. Variable:              교통사고_발생건수   R-squared:                       0.011\n",
       "Model:                            OLS   Adj. R-squared:                 -0.154\n",
       "Method:                 Least Squares   F-statistic:                   0.06637\n",
       "Date:                Sat, 05 Jun 2021   Prob (F-statistic):              0.805\n",
       "Time:                        14:18:43   Log-Likelihood:                -45.145\n",
       "No. Observations:                   8   AIC:                             94.29\n",
       "Df Residuals:                       6   BIC:                             94.45\n",
       "Df Model:                           1                                         \n",
       "Covariance Type:            nonrobust                                         \n",
       "==============================================================================\n",
       "                 coef    std err          t      P>|t|      [0.025      0.975]\n",
       "------------------------------------------------------------------------------\n",
       "Intercept    607.4154     35.220     17.246      0.000     521.235     693.595\n",
       "일최심적설         -6.1560     23.895     -0.258      0.805     -64.625      52.313\n",
       "==============================================================================\n",
       "Omnibus:                        1.795   Durbin-Watson:                   2.025\n",
       "Prob(Omnibus):                  0.407   Jarque-Bera (JB):                0.858\n",
       "Skew:                           0.396   Prob(JB):                        0.651\n",
       "Kurtosis:                       1.606   Cond. No.                         2.28\n",
       "==============================================================================\n",
       "\n",
       "Notes:\n",
       "[1] Standard Errors assume that the covariance matrix of the errors is correctly specified.\n",
       "\"\"\""
      ]
     },
     "execution_count": 15,
     "metadata": {},
     "output_type": "execute_result"
    }
   ],
   "source": [
    "snowy_day['일최심적설'] = snowy_day['일 최심적설(cm)']\n",
    "m1 = ols (\"교통사고_발생건수~일최심적설\", data=snowy_day).fit()\n",
    "m1.summary()"
   ]
  },
  {
   "cell_type": "code",
   "execution_count": 21,
   "metadata": {},
   "outputs": [
    {
     "name": "stdout",
     "output_type": "stream",
     "text": [
      "slope :  -6.1559633027522915 intercept :  607.415366972477\n"
     ]
    },
    {
     "data": {
      "image/png": "[encoded data removed]",
      "text/plain": [
       "<Figure size 432x288 with 1 Axes>"
      ]
     },
     "metadata": {
      "needs_background": "light"
     },
     "output_type": "display_data"
    }
   ],
   "source": [
    "plt.scatter(\"일 최심적설(cm)\", \"교통사고_발생건수\", data = snowy_day)\n",
    "LeastSquareMethod(snowy_day['일 최심적설(cm)'], snowy_day['교통사고_발생건수'])"
   ]
  },
  {
   "cell_type": "code",
   "execution_count": 13,
   "metadata": {
    "scrolled": false
   },
   "outputs": [
    {
     "name": "stdout",
     "output_type": "stream",
     "text": [
      "             df        sum_sq      mean_sq         F    PR(>F)\n",
      "날씨          2.0  1.060994e+04  5304.969997  0.542907  0.581529\n",
      "Residual  362.0  3.537252e+06  9771.415590       NaN       NaN\n"
     ]
    },
    {
     "data": {
      "text/plain": [
       "<AxesSubplot:xlabel='날씨', ylabel='교통사고_발생건수'>"
      ]
     },
     "execution_count": 13,
     "metadata": {},
     "output_type": "execute_result"
    },
    {
     "data": {
      "image/png": "[encoded data removed]",
      "text/plain": [
       "<Figure size 432x288 with 1 Axes>"
      ]
     },
     "metadata": {
      "needs_background": "light"
     },
     "output_type": "display_data"
    }
   ],
   "source": [
    "from statsmodels.formula.api import ols\n",
    "from statsmodels.stats.anova import anova_lm\n",
    "import seaborn as sns\n",
    "\n",
    "model=ols('교통사고_발생건수~날씨', df).fit()\n",
    "\n",
    "print (anova_lm(model))\n",
    "sns.boxplot(x='날씨', y='교통사고_발생건수', data = df)"
   ]
  }
 ],
 "metadata": {
  "kernelspec": {
   "display_name": "Python 3",
   "language": "python",
   "name": "python3"
  },
  "language_info": {
   "codemirror_mode": {
    "name": "ipython",
    "version": 3
   },
   "file_extension": ".py",
   "mimetype": "text/x-python",
   "name": "python",
   "nbconvert_exporter": "python",
   "pygments_lexer": "ipython3",
   "version": "3.8.5"
  }
 },
 "nbformat": 4,
 "nbformat_minor": 4
}
