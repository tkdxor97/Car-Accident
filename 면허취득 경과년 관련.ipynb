{
 "cells": [
  {
   "cell_type": "code",
   "execution_count": 33,
   "metadata": {},
   "outputs": [],
   "source": [
    "import pandas as pd\n",
    "import numpy as np\n",
    "import matplotlib\n",
    "import matplotlib.pyplot as plt\n",
    "import matplotlib.font_manager as fm\n",
    "from scipy import stats\n",
    "from statsmodels.formula.api import ols, glm \n",
    "\n",
    "fm.get_fontconfig_fonts()\n",
    "font_location = 'C:/Windows/Fonts/malgun.ttf'\n",
    "font_name = fm.FontProperties(fname=font_location).get_name()\n",
    "matplotlib.rc('font', family=font_name)"
   ]
  },
  {
   "cell_type": "code",
   "execution_count": 34,
   "metadata": {},
   "outputs": [],
   "source": [
    "df = pd.read_excel('C:/Users/ghdtk/BigData/Project/Data/교통사고 통계/면허취득_경과년별_교통사고.xls', header = 8)\n",
    "df = df.drop('5년미만', axis=1)\n",
    "df.columns = ['면허취득경과년수', '사고, 사망, 부상', 'Count']"
   ]
  },
  {
   "cell_type": "code",
   "execution_count": 35,
   "metadata": {},
   "outputs": [],
   "source": [
    "df = df.drop(15).drop(16).drop(17).drop(21).drop(22).drop(23).drop(27).drop(28).drop(29).drop(33).drop(34).drop(35)"
   ]
  },
  {
   "cell_type": "code",
   "execution_count": 36,
   "metadata": {},
   "outputs": [],
   "source": [
    "x = [0,1,2,3,4,5,10,15]\n",
    "accident = []\n",
    "death = []\n",
    "injury = []\n",
    "license_count = []\n",
    "for i in range(int(len(df)/3)):\n",
    "    accident.append(df.iloc[i*3, 2])\n",
    "    death.append(df.iloc[i*3 + 1, 2])\n",
    "    injury.append(df.iloc[i*3 + 2, 2])"
   ]
  },
  {
   "cell_type": "code",
   "execution_count": 37,
   "metadata": {},
   "outputs": [],
   "source": [
    "df = pd.read_excel(\"C:/Users/ghdtk/BigData/Project/Data/기타 데이터/연도별_운전면허소지자현황.xls\")"
   ]
  },
  {
   "cell_type": "code",
   "execution_count": 38,
   "metadata": {},
   "outputs": [],
   "source": [
    "license_count.append(df.iloc[0]['2018'] - df.iloc[0]['2017'])\n",
    "license_count.append(df.iloc[0]['2017'] - df.iloc[0]['2016'])\n",
    "license_count.append(df.iloc[0]['2016'] - df.iloc[0]['2015'])\n",
    "license_count.append(df.iloc[0]['2015'] - df.iloc[0]['2014'])\n",
    "license_count.append(df.iloc[0]['2014'] - df.iloc[0]['2013'])\n",
    "license_count.append(df.iloc[0]['2013'] - df.iloc[0]['2008'])\n",
    "license_count.append(df.iloc[0]['2008'] - df.iloc[0]['2003'])\n",
    "license_count.append(df.iloc[0]['2003'])"
   ]
  },
  {
   "cell_type": "code",
   "execution_count": 39,
   "metadata": {},
   "outputs": [
    {
     "data": {
      "text/html": [
       "<div>\n",
       "<style scoped>\n",
       "    .dataframe tbody tr th:only-of-type {\n",
       "        vertical-align: middle;\n",
       "    }\n",
       "\n",
       "    .dataframe tbody tr th {\n",
       "        vertical-align: top;\n",
       "    }\n",
       "\n",
       "    .dataframe thead th {\n",
       "        text-align: right;\n",
       "    }\n",
       "</style>\n",
       "<table border=\"1\" class=\"dataframe\">\n",
       "  <thead>\n",
       "    <tr style=\"text-align: right;\">\n",
       "      <th></th>\n",
       "      <th>운전자수</th>\n",
       "    </tr>\n",
       "  </thead>\n",
       "  <tbody>\n",
       "    <tr>\n",
       "      <th>0년</th>\n",
       "      <td>495688</td>\n",
       "    </tr>\n",
       "    <tr>\n",
       "      <th>1년</th>\n",
       "      <td>475034</td>\n",
       "    </tr>\n",
       "    <tr>\n",
       "      <th>2년</th>\n",
       "      <td>896738</td>\n",
       "    </tr>\n",
       "    <tr>\n",
       "      <th>3년</th>\n",
       "      <td>749376</td>\n",
       "    </tr>\n",
       "    <tr>\n",
       "      <th>4년</th>\n",
       "      <td>696205</td>\n",
       "    </tr>\n",
       "    <tr>\n",
       "      <th>5~9년</th>\n",
       "      <td>3579661</td>\n",
       "    </tr>\n",
       "    <tr>\n",
       "      <th>10~14년</th>\n",
       "      <td>3205922</td>\n",
       "    </tr>\n",
       "    <tr>\n",
       "      <th>15년이상</th>\n",
       "      <td>22062457</td>\n",
       "    </tr>\n",
       "  </tbody>\n",
       "</table>\n",
       "</div>"
      ],
      "text/plain": [
       "            운전자수\n",
       "0년        495688\n",
       "1년        475034\n",
       "2년        896738\n",
       "3년        749376\n",
       "4년        696205\n",
       "5~9년     3579661\n",
       "10~14년   3205922\n",
       "15년이상   22062457"
      ]
     },
     "execution_count": 39,
     "metadata": {},
     "output_type": "execute_result"
    }
   ],
   "source": [
    "pd.DataFrame({'운전자수' : license_count}, index = ['0년', '1년', '2년', '3년', '4년', '5~9년', '10~14년', '15년이상'])"
   ]
  },
  {
   "cell_type": "code",
   "execution_count": 40,
   "metadata": {},
   "outputs": [],
   "source": [
    "accident_rate = []\n",
    "death_rate = []\n",
    "injury_rate = []\n",
    "accident_rate = np.array(accident) / np.array(license_count)\n",
    "death_rate = np.array(death) / (np.array(death) + np.array(injury))\n",
    "injury_rate = np.array(injury) / (np.array(death) + np.array(injury))\n"
   ]
  },
  {
   "cell_type": "code",
   "execution_count": 41,
   "metadata": {},
   "outputs": [],
   "source": [
    "def LeastSquareMethod(X, Y):\n",
    "    x_bar = sum(X) / len(X)\n",
    "    y_bar = sum(Y) / len(Y)\n",
    "    \n",
    "    a = sum([(y - y_bar) * (x - x_bar) for y, x in list(zip(Y,X))])\n",
    "    a /= sum([(x - x_bar) ** 2 for x in X])\n",
    "    b = y_bar - a * x_bar\n",
    "    print('slope : ', a, 'intercept : ', b)\n",
    "    \n",
    "    line_x = np.arange(min(X), max(X), 0.01)\n",
    "    line_y = a * line_x + b\n",
    "    \n",
    "    plt.plot(line_x, line_y, 'r-')\n",
    "    "
   ]
  },
  {
   "cell_type": "code",
   "execution_count": 42,
   "metadata": {},
   "outputs": [
    {
     "name": "stderr",
     "output_type": "stream",
     "text": [
      "C:\\ProgramData\\Anaconda3\\lib\\site-packages\\scipy\\stats\\stats.py:1603: UserWarning: kurtosistest only valid for n>=20 ... continuing anyway, n=8\n",
      "  warnings.warn(\"kurtosistest only valid for n>=20 ... continuing \"\n"
     ]
    },
    {
     "data": {
      "text/html": [
       "<table class=\"simpletable\">\n",
       "<caption>OLS Regression Results</caption>\n",
       "<tr>\n",
       "  <th>Dep. Variable:</th>          <td>year</td>       <th>  R-squared:         </th> <td>   0.258</td>\n",
       "</tr>\n",
       "<tr>\n",
       "  <th>Model:</th>                   <td>OLS</td>       <th>  Adj. R-squared:    </th> <td>   0.135</td>\n",
       "</tr>\n",
       "<tr>\n",
       "  <th>Method:</th>             <td>Least Squares</td>  <th>  F-statistic:       </th> <td>   2.091</td>\n",
       "</tr>\n",
       "<tr>\n",
       "  <th>Date:</th>             <td>Sun, 06 Jun 2021</td> <th>  Prob (F-statistic):</th>  <td> 0.198</td> \n",
       "</tr>\n",
       "<tr>\n",
       "  <th>Time:</th>                 <td>05:18:38</td>     <th>  Log-Likelihood:    </th> <td> -22.609</td>\n",
       "</tr>\n",
       "<tr>\n",
       "  <th>No. Observations:</th>      <td>     8</td>      <th>  AIC:               </th> <td>   49.22</td>\n",
       "</tr>\n",
       "<tr>\n",
       "  <th>Df Residuals:</th>          <td>     6</td>      <th>  BIC:               </th> <td>   49.38</td>\n",
       "</tr>\n",
       "<tr>\n",
       "  <th>Df Model:</th>              <td>     1</td>      <th>                     </th>     <td> </td>   \n",
       "</tr>\n",
       "<tr>\n",
       "  <th>Covariance Type:</th>      <td>nonrobust</td>    <th>                     </th>     <td> </td>   \n",
       "</tr>\n",
       "</table>\n",
       "<table class=\"simpletable\">\n",
       "<tr>\n",
       "        <td></td>           <th>coef</th>     <th>std err</th>      <th>t</th>      <th>P>|t|</th>  <th>[0.025</th>    <th>0.975]</th>  \n",
       "</tr>\n",
       "<tr>\n",
       "  <th>Intercept</th>     <td>   15.1494</td> <td>    7.214</td> <td>    2.100</td> <td> 0.080</td> <td>   -2.502</td> <td>   32.801</td>\n",
       "</tr>\n",
       "<tr>\n",
       "  <th>accident_rate</th> <td>-1354.3623</td> <td>  936.548</td> <td>   -1.446</td> <td> 0.198</td> <td>-3646.012</td> <td>  937.288</td>\n",
       "</tr>\n",
       "</table>\n",
       "<table class=\"simpletable\">\n",
       "<tr>\n",
       "  <th>Omnibus:</th>       <td> 3.340</td> <th>  Durbin-Watson:     </th> <td>   0.584</td>\n",
       "</tr>\n",
       "<tr>\n",
       "  <th>Prob(Omnibus):</th> <td> 0.188</td> <th>  Jarque-Bera (JB):  </th> <td>   0.930</td>\n",
       "</tr>\n",
       "<tr>\n",
       "  <th>Skew:</th>          <td> 0.831</td> <th>  Prob(JB):          </th> <td>   0.628</td>\n",
       "</tr>\n",
       "<tr>\n",
       "  <th>Kurtosis:</th>      <td> 3.158</td> <th>  Cond. No.          </th> <td>    562.</td>\n",
       "</tr>\n",
       "</table><br/><br/>Notes:<br/>[1] Standard Errors assume that the covariance matrix of the errors is correctly specified."
      ],
      "text/plain": [
       "<class 'statsmodels.iolib.summary.Summary'>\n",
       "\"\"\"\n",
       "                            OLS Regression Results                            \n",
       "==============================================================================\n",
       "Dep. Variable:                   year   R-squared:                       0.258\n",
       "Model:                            OLS   Adj. R-squared:                  0.135\n",
       "Method:                 Least Squares   F-statistic:                     2.091\n",
       "Date:                Sun, 06 Jun 2021   Prob (F-statistic):              0.198\n",
       "Time:                        05:18:38   Log-Likelihood:                -22.609\n",
       "No. Observations:                   8   AIC:                             49.22\n",
       "Df Residuals:                       6   BIC:                             49.38\n",
       "Df Model:                           1                                         \n",
       "Covariance Type:            nonrobust                                         \n",
       "=================================================================================\n",
       "                    coef    std err          t      P>|t|      [0.025      0.975]\n",
       "---------------------------------------------------------------------------------\n",
       "Intercept        15.1494      7.214      2.100      0.080      -2.502      32.801\n",
       "accident_rate -1354.3623    936.548     -1.446      0.198   -3646.012     937.288\n",
       "==============================================================================\n",
       "Omnibus:                        3.340   Durbin-Watson:                   0.584\n",
       "Prob(Omnibus):                  0.188   Jarque-Bera (JB):                0.930\n",
       "Skew:                           0.831   Prob(JB):                        0.628\n",
       "Kurtosis:                       3.158   Cond. No.                         562.\n",
       "==============================================================================\n",
       "\n",
       "Notes:\n",
       "[1] Standard Errors assume that the covariance matrix of the errors is correctly specified.\n",
       "\"\"\""
      ]
     },
     "execution_count": 42,
     "metadata": {},
     "output_type": "execute_result"
    }
   ],
   "source": [
    "year_accident_df = pd.DataFrame({'year' : x, 'accident_rate' : accident_rate})\n",
    "\n",
    "m1 = ols ( 'year~accident_rate', data=year_accident_df).fit()\n",
    "m1.summary()"
   ]
  },
  {
   "cell_type": "code",
   "execution_count": 49,
   "metadata": {},
   "outputs": [
    {
     "name": "stdout",
     "output_type": "stream",
     "text": [
      "slope :  -0.00019083513233745744 intercept :  0.008448063361580133\n"
     ]
    },
    {
     "data": {
      "image/png": "[encoded data removed]",
      "text/plain": [
       "<Figure size 432x288 with 1 Axes>"
      ]
     },
     "metadata": {
      "needs_background": "light"
     },
     "output_type": "display_data"
    }
   ],
   "source": [
    "plt.scatter(x, accident_rate, label = 'accident rate')\n",
    "plt.xlabel(\"면허 취득경과년수\")\n",
    "plt.ylabel(\"사고발생률\")\n",
    "LeastSquareMethod(x, accident_rate)"
   ]
  },
  {
   "cell_type": "code",
   "execution_count": 44,
   "metadata": {},
   "outputs": [
    {
     "name": "stderr",
     "output_type": "stream",
     "text": [
      "C:\\ProgramData\\Anaconda3\\lib\\site-packages\\scipy\\stats\\stats.py:1603: UserWarning: kurtosistest only valid for n>=20 ... continuing anyway, n=8\n",
      "  warnings.warn(\"kurtosistest only valid for n>=20 ... continuing \"\n"
     ]
    },
    {
     "data": {
      "text/html": [
       "<table class=\"simpletable\">\n",
       "<caption>OLS Regression Results</caption>\n",
       "<tr>\n",
       "  <th>Dep. Variable:</th>          <td>year</td>       <th>  R-squared:         </th> <td>   0.585</td>\n",
       "</tr>\n",
       "<tr>\n",
       "  <th>Model:</th>                   <td>OLS</td>       <th>  Adj. R-squared:    </th> <td>   0.516</td>\n",
       "</tr>\n",
       "<tr>\n",
       "  <th>Method:</th>             <td>Least Squares</td>  <th>  F-statistic:       </th> <td>   8.466</td>\n",
       "</tr>\n",
       "<tr>\n",
       "  <th>Date:</th>             <td>Sun, 06 Jun 2021</td> <th>  Prob (F-statistic):</th>  <td>0.0270</td> \n",
       "</tr>\n",
       "<tr>\n",
       "  <th>Time:</th>                 <td>05:18:38</td>     <th>  Log-Likelihood:    </th> <td> -20.285</td>\n",
       "</tr>\n",
       "<tr>\n",
       "  <th>No. Observations:</th>      <td>     8</td>      <th>  AIC:               </th> <td>   44.57</td>\n",
       "</tr>\n",
       "<tr>\n",
       "  <th>Df Residuals:</th>          <td>     6</td>      <th>  BIC:               </th> <td>   44.73</td>\n",
       "</tr>\n",
       "<tr>\n",
       "  <th>Df Model:</th>              <td>     1</td>      <th>                     </th>     <td> </td>   \n",
       "</tr>\n",
       "<tr>\n",
       "  <th>Covariance Type:</th>      <td>nonrobust</td>    <th>                     </th>     <td> </td>   \n",
       "</tr>\n",
       "</table>\n",
       "<table class=\"simpletable\">\n",
       "<tr>\n",
       "       <td></td>         <th>coef</th>     <th>std err</th>      <th>t</th>      <th>P>|t|</th>  <th>[0.025</th>    <th>0.975]</th>  \n",
       "</tr>\n",
       "<tr>\n",
       "  <th>Intercept</th>  <td>  -27.5115</td> <td>   11.243</td> <td>   -2.447</td> <td> 0.050</td> <td>  -55.022</td> <td>   -0.001</td>\n",
       "</tr>\n",
       "<tr>\n",
       "  <th>death_rate</th> <td> 3854.7501</td> <td> 1324.795</td> <td>    2.910</td> <td> 0.027</td> <td>  613.094</td> <td> 7096.406</td>\n",
       "</tr>\n",
       "</table>\n",
       "<table class=\"simpletable\">\n",
       "<tr>\n",
       "  <th>Omnibus:</th>       <td> 0.274</td> <th>  Durbin-Watson:     </th> <td>   1.644</td>\n",
       "</tr>\n",
       "<tr>\n",
       "  <th>Prob(Omnibus):</th> <td> 0.872</td> <th>  Jarque-Bera (JB):  </th> <td>   0.157</td>\n",
       "</tr>\n",
       "<tr>\n",
       "  <th>Skew:</th>          <td>-0.219</td> <th>  Prob(JB):          </th> <td>   0.925</td>\n",
       "</tr>\n",
       "<tr>\n",
       "  <th>Kurtosis:</th>      <td> 2.472</td> <th>  Cond. No.          </th> <td>1.06e+03</td>\n",
       "</tr>\n",
       "</table><br/><br/>Notes:<br/>[1] Standard Errors assume that the covariance matrix of the errors is correctly specified.<br/>[2] The condition number is large, 1.06e+03. This might indicate that there are<br/>strong multicollinearity or other numerical problems."
      ],
      "text/plain": [
       "<class 'statsmodels.iolib.summary.Summary'>\n",
       "\"\"\"\n",
       "                            OLS Regression Results                            \n",
       "==============================================================================\n",
       "Dep. Variable:                   year   R-squared:                       0.585\n",
       "Model:                            OLS   Adj. R-squared:                  0.516\n",
       "Method:                 Least Squares   F-statistic:                     8.466\n",
       "Date:                Sun, 06 Jun 2021   Prob (F-statistic):             0.0270\n",
       "Time:                        05:18:38   Log-Likelihood:                -20.285\n",
       "No. Observations:                   8   AIC:                             44.57\n",
       "Df Residuals:                       6   BIC:                             44.73\n",
       "Df Model:                           1                                         \n",
       "Covariance Type:            nonrobust                                         \n",
       "==============================================================================\n",
       "                 coef    std err          t      P>|t|      [0.025      0.975]\n",
       "------------------------------------------------------------------------------\n",
       "Intercept    -27.5115     11.243     -2.447      0.050     -55.022      -0.001\n",
       "death_rate  3854.7501   1324.795      2.910      0.027     613.094    7096.406\n",
       "==============================================================================\n",
       "Omnibus:                        0.274   Durbin-Watson:                   1.644\n",
       "Prob(Omnibus):                  0.872   Jarque-Bera (JB):                0.157\n",
       "Skew:                          -0.219   Prob(JB):                        0.925\n",
       "Kurtosis:                       2.472   Cond. No.                     1.06e+03\n",
       "==============================================================================\n",
       "\n",
       "Notes:\n",
       "[1] Standard Errors assume that the covariance matrix of the errors is correctly specified.\n",
       "[2] The condition number is large, 1.06e+03. This might indicate that there are\n",
       "strong multicollinearity or other numerical problems.\n",
       "\"\"\""
      ]
     },
     "execution_count": 44,
     "metadata": {},
     "output_type": "execute_result"
    }
   ],
   "source": [
    "year_death_df = pd.DataFrame({'year' : x, 'death_rate' : death_rate})\n",
    "\n",
    "m1 = ols ( 'year~death_rate', data=year_death_df).fit()\n",
    "m1.summary()"
   ]
  },
  {
   "cell_type": "code",
   "execution_count": 50,
   "metadata": {},
   "outputs": [
    {
     "name": "stdout",
     "output_type": "stream",
     "text": [
      "slope :  0.00015182405833307597 intercept :  0.00767501618416129\n"
     ]
    },
    {
     "data": {
      "image/png": "[encoded data removed]",
      "text/plain": [
       "<Figure size 432x288 with 1 Axes>"
      ]
     },
     "metadata": {
      "needs_background": "light"
     },
     "output_type": "display_data"
    }
   ],
   "source": [
    "# plt.figure()\n",
    "plt.scatter(x, death_rate, label = 'death rate')\n",
    "plt.xlabel(\"면허 취득경과년수\")\n",
    "plt.ylabel(\"사망률\")\n",
    "LeastSquareMethod(x, death_rate)"
   ]
  },
  {
   "cell_type": "code",
   "execution_count": null,
   "metadata": {},
   "outputs": [],
   "source": []
  }
 ],
 "metadata": {
  "kernelspec": {
   "display_name": "Python 3",
   "language": "python",
   "name": "python3"
  },
  "language_info": {
   "codemirror_mode": {
    "name": "ipython",
    "version": 3
   },
   "file_extension": ".py",
   "mimetype": "text/x-python",
   "name": "python",
   "nbconvert_exporter": "python",
   "pygments_lexer": "ipython3",
   "version": "3.8.5"
  }
 },
 "nbformat": 4,
 "nbformat_minor": 4
}
